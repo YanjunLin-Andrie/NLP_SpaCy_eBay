{
 "cells": [
  {
   "cell_type": "code",
   "execution_count": 36,
   "id": "cb5057e7-d7d7-43f0-8856-43a429eff281",
   "metadata": {},
   "outputs": [],
   "source": [
    "import pandas as pd\n"
   ]
  },
  {
   "cell_type": "code",
   "execution_count": 37,
   "id": "9681d530-fe0b-4073-bf27-19e38c810bd0",
   "metadata": {},
   "outputs": [],
   "source": [
    "listing_titles = pd.read_csv('eBay_ML_Challenge_Dataset_2022/Listing_Titles.tsv', sep = '\\t').dropna()\n",
    "listing_titles_new = listing_titles.iloc[-9985:,:]\n",
    "listing_titles_new.to_csv('eBay_ML_Challenge_Dataset_2022/Listing_Titles_SM.tsv')"
   ]
  },
  {
   "cell_type": "code",
   "execution_count": 40,
   "id": "6efc9f01-cf40-4ec2-9633-b218829fd18c",
   "metadata": {},
   "outputs": [
    {
     "data": {
      "text/html": [
       "<div>\n",
       "<style scoped>\n",
       "    .dataframe tbody tr th:only-of-type {\n",
       "        vertical-align: middle;\n",
       "    }\n",
       "\n",
       "    .dataframe tbody tr th {\n",
       "        vertical-align: top;\n",
       "    }\n",
       "\n",
       "    .dataframe thead th {\n",
       "        text-align: right;\n",
       "    }\n",
       "</style>\n",
       "<table border=\"1\" class=\"dataframe\">\n",
       "  <thead>\n",
       "    <tr style=\"text-align: right;\">\n",
       "      <th></th>\n",
       "      <th>Unnamed: 0</th>\n",
       "      <th>Record Number</th>\n",
       "      <th>Title</th>\n",
       "    </tr>\n",
       "  </thead>\n",
       "  <tbody>\n",
       "    <tr>\n",
       "      <th>9980</th>\n",
       "      <td>19971953</td>\n",
       "      <td>19999917</td>\n",
       "      <td>' Wire Frame Octopus ' Tote Shopping Bag For L...</td>\n",
       "    </tr>\n",
       "    <tr>\n",
       "      <th>9981</th>\n",
       "      <td>19971954</td>\n",
       "      <td>19999918</td>\n",
       "      <td>Vintage Etienne Aigner Medium Oxblood Red Leat...</td>\n",
       "    </tr>\n",
       "    <tr>\n",
       "      <th>9982</th>\n",
       "      <td>19971955</td>\n",
       "      <td>19999919</td>\n",
       "      <td>Nine West Purse Shoulder Bag Handbag Camel Bro...</td>\n",
       "    </tr>\n",
       "    <tr>\n",
       "      <th>9983</th>\n",
       "      <td>19971956</td>\n",
       "      <td>19999920</td>\n",
       "      <td>New 2021 Ladies Tote Bag Women Crossbody Shoul...</td>\n",
       "    </tr>\n",
       "    <tr>\n",
       "      <th>9984</th>\n",
       "      <td>19971957</td>\n",
       "      <td>19999921</td>\n",
       "      <td>Gucci Bamboo Handbag Leather Black 2WAY 000 20...</td>\n",
       "    </tr>\n",
       "  </tbody>\n",
       "</table>\n",
       "</div>"
      ],
      "text/plain": [
       "      Unnamed: 0  Record Number  \\\n",
       "9980    19971953       19999917   \n",
       "9981    19971954       19999918   \n",
       "9982    19971955       19999919   \n",
       "9983    19971956       19999920   \n",
       "9984    19971957       19999921   \n",
       "\n",
       "                                                  Title  \n",
       "9980  ' Wire Frame Octopus ' Tote Shopping Bag For L...  \n",
       "9981  Vintage Etienne Aigner Medium Oxblood Red Leat...  \n",
       "9982  Nine West Purse Shoulder Bag Handbag Camel Bro...  \n",
       "9983  New 2021 Ladies Tote Bag Women Crossbody Shoul...  \n",
       "9984  Gucci Bamboo Handbag Leather Black 2WAY 000 20...  "
      ]
     },
     "execution_count": 40,
     "metadata": {},
     "output_type": "execute_result"
    }
   ],
   "source": [
    "lt= pd.read_csv('eBay_ML_Challenge_Dataset_2022/Listing_Titles_SM.tsv')\n",
    "lt.tail()"
   ]
  },
  {
   "cell_type": "code",
   "execution_count": 7,
   "id": "68f533d5-b787-4551-ac31-663a6d687094",
   "metadata": {},
   "outputs": [
    {
     "data": {
      "text/plain": [
       "(19971958, 2)"
      ]
     },
     "execution_count": 7,
     "metadata": {},
     "output_type": "execute_result"
    }
   ],
   "source": [
    "listing_titles.shape"
   ]
  },
  {
   "cell_type": "code",
   "execution_count": 31,
   "id": "cf9766a3-6d86-48df-bb2b-93c73f37d3a9",
   "metadata": {},
   "outputs": [
    {
     "data": {
      "text/plain": [
       "9985.979"
      ]
     },
     "execution_count": 31,
     "metadata": {},
     "output_type": "execute_result"
    }
   ],
   "source": [
    "19971958/2000"
   ]
  },
  {
   "cell_type": "code",
   "execution_count": 24,
   "id": "33b2f0d1-8152-433e-8f19-24d289c07b46",
   "metadata": {},
   "outputs": [],
   "source": [
    "train_tagged_titles = pd.read_csv('eBay_ML_Challenge_Dataset_2022/Train_Tagged_Titles.tsv', on_bad_lines = 'skip',sep = '\\t').dropna()\n",
    "train_tagged_titles_new = train_tagged_titles.iloc[:19098,:]\n",
    "train_tagged_titles_new.to_csv('eBay_ML_Challenge_Dataset_2022/Train_Tagged_Titles_new.tsv')"
   ]
  },
  {
   "cell_type": "code",
   "execution_count": 26,
   "id": "939b0fe3-e7a4-4fe3-b77b-4670bd535bce",
   "metadata": {},
   "outputs": [
    {
     "data": {
      "text/html": [
       "<div>\n",
       "<style scoped>\n",
       "    .dataframe tbody tr th:only-of-type {\n",
       "        vertical-align: middle;\n",
       "    }\n",
       "\n",
       "    .dataframe tbody tr th {\n",
       "        vertical-align: top;\n",
       "    }\n",
       "\n",
       "    .dataframe thead th {\n",
       "        text-align: right;\n",
       "    }\n",
       "</style>\n",
       "<table border=\"1\" class=\"dataframe\">\n",
       "  <thead>\n",
       "    <tr style=\"text-align: right;\">\n",
       "      <th></th>\n",
       "      <th>Record Number</th>\n",
       "      <th>Title</th>\n",
       "      <th>Token</th>\n",
       "      <th>Tag</th>\n",
       "    </tr>\n",
       "  </thead>\n",
       "  <tbody>\n",
       "    <tr>\n",
       "      <th>21888</th>\n",
       "      <td>2763</td>\n",
       "      <td>Fendi Brown / Black / Red Fur / Leather Baguet...</td>\n",
       "      <td>Bag</td>\n",
       "      <td>Type</td>\n",
       "    </tr>\n",
       "    <tr>\n",
       "      <th>21889</th>\n",
       "      <td>2763</td>\n",
       "      <td>Fendi Brown / Black / Red Fur / Leather Baguet...</td>\n",
       "      <td>/</td>\n",
       "      <td>No Tag</td>\n",
       "    </tr>\n",
       "    <tr>\n",
       "      <th>21890</th>\n",
       "      <td>2763</td>\n",
       "      <td>Fendi Brown / Black / Red Fur / Leather Baguet...</td>\n",
       "      <td>Handbag</td>\n",
       "      <td>Type</td>\n",
       "    </tr>\n",
       "    <tr>\n",
       "      <th>21891</th>\n",
       "      <td>2763</td>\n",
       "      <td>Fendi Brown / Black / Red Fur / Leather Baguet...</td>\n",
       "      <td>/</td>\n",
       "      <td>No Tag</td>\n",
       "    </tr>\n",
       "    <tr>\n",
       "      <th>21892</th>\n",
       "      <td>2763</td>\n",
       "      <td>Fendi Brown / Black / Red Fur / Leather Baguet...</td>\n",
       "      <td>Purse</td>\n",
       "      <td>Type</td>\n",
       "    </tr>\n",
       "  </tbody>\n",
       "</table>\n",
       "</div>"
      ],
      "text/plain": [
       "       Record Number                                              Title  \\\n",
       "21888           2763  Fendi Brown / Black / Red Fur / Leather Baguet...   \n",
       "21889           2763  Fendi Brown / Black / Red Fur / Leather Baguet...   \n",
       "21890           2763  Fendi Brown / Black / Red Fur / Leather Baguet...   \n",
       "21891           2763  Fendi Brown / Black / Red Fur / Leather Baguet...   \n",
       "21892           2763  Fendi Brown / Black / Red Fur / Leather Baguet...   \n",
       "\n",
       "         Token     Tag  \n",
       "21888      Bag    Type  \n",
       "21889        /  No Tag  \n",
       "21890  Handbag    Type  \n",
       "21891        /  No Tag  \n",
       "21892    Purse    Type  "
      ]
     },
     "execution_count": 26,
     "metadata": {},
     "output_type": "execute_result"
    }
   ],
   "source": [
    "train_tagged_titles_new.tail()"
   ]
  },
  {
   "cell_type": "code",
   "execution_count": 5,
   "id": "b6bc32e3-cfa5-49d4-9570-7997ee45a932",
   "metadata": {},
   "outputs": [
    {
     "data": {
      "text/plain": [
       "(38209, 4)"
      ]
     },
     "execution_count": 5,
     "metadata": {},
     "output_type": "execute_result"
    }
   ],
   "source": [
    "train_tagged_titles.shape"
   ]
  },
  {
   "cell_type": "code",
   "execution_count": 22,
   "id": "cecfd8b1-9f1b-4311-928a-200019d58b73",
   "metadata": {},
   "outputs": [
    {
     "data": {
      "text/plain": [
       "19098.0"
      ]
     },
     "execution_count": 22,
     "metadata": {},
     "output_type": "execute_result"
    }
   ],
   "source": [
    "(38208/2)-6"
   ]
  },
  {
   "cell_type": "code",
   "execution_count": null,
   "id": "52cb7a8e-dcb1-4fc1-af5d-4a44155ebcd0",
   "metadata": {},
   "outputs": [],
   "source": []
  }
 ],
 "metadata": {
  "kernelspec": {
   "display_name": "dev",
   "language": "python",
   "name": "dev"
  },
  "language_info": {
   "codemirror_mode": {
    "name": "ipython",
    "version": 3
   },
   "file_extension": ".py",
   "mimetype": "text/x-python",
   "name": "python",
   "nbconvert_exporter": "python",
   "pygments_lexer": "ipython3",
   "version": "3.9.12"
  }
 },
 "nbformat": 4,
 "nbformat_minor": 5
}
